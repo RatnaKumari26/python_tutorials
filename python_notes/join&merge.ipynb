{
 "cells": [
  {
   "cell_type": "markdown",
   "id": "2c4202cb",
   "metadata": {},
   "source": [
    "## Join and merge pandas"
   ]
  },
  {
   "cell_type": "code",
   "execution_count": 2,
   "id": "77a6db5b",
   "metadata": {},
   "outputs": [],
   "source": [
    "import pandas as pd"
   ]
  },
  {
   "cell_type": "markdown",
   "id": "e1ed854a",
   "metadata": {},
   "source": [
    "- merge = It is used to combine dataframes for common columns.\n",
    "- join = It is used to combine dataframes for columns.\n",
    "- To merge the dataframes we use \"on\" and \"how\".\n",
    "- On = columns name should be in both dataframes\n",
    "- how = Type of joins:\n",
    "    - left join\n",
    "    - right join\n",
    "    - inner join\n",
    "    - outer join"
   ]
  },
  {
   "cell_type": "code",
   "execution_count": 3,
   "id": "171f7c20",
   "metadata": {},
   "outputs": [
    {
     "data": {
      "text/html": [
       "<div>\n",
       "<style scoped>\n",
       "    .dataframe tbody tr th:only-of-type {\n",
       "        vertical-align: middle;\n",
       "    }\n",
       "\n",
       "    .dataframe tbody tr th {\n",
       "        vertical-align: top;\n",
       "    }\n",
       "\n",
       "    .dataframe thead th {\n",
       "        text-align: right;\n",
       "    }\n",
       "</style>\n",
       "<table border=\"1\" class=\"dataframe\">\n",
       "  <thead>\n",
       "    <tr style=\"text-align: right;\">\n",
       "      <th></th>\n",
       "      <th>student_name</th>\n",
       "      <th>english</th>\n",
       "      <th>student_age</th>\n",
       "    </tr>\n",
       "  </thead>\n",
       "  <tbody>\n",
       "    <tr>\n",
       "      <th>0</th>\n",
       "      <td>renu</td>\n",
       "      <td>91</td>\n",
       "      <td>9</td>\n",
       "    </tr>\n",
       "    <tr>\n",
       "      <th>1</th>\n",
       "      <td>venu</td>\n",
       "      <td>98</td>\n",
       "      <td>10</td>\n",
       "    </tr>\n",
       "    <tr>\n",
       "      <th>2</th>\n",
       "      <td>mahi</td>\n",
       "      <td>92</td>\n",
       "      <td>14</td>\n",
       "    </tr>\n",
       "    <tr>\n",
       "      <th>3</th>\n",
       "      <td>abhi</td>\n",
       "      <td>94</td>\n",
       "      <td>12</td>\n",
       "    </tr>\n",
       "    <tr>\n",
       "      <th>4</th>\n",
       "      <td>hari</td>\n",
       "      <td>93</td>\n",
       "      <td>15</td>\n",
       "    </tr>\n",
       "  </tbody>\n",
       "</table>\n",
       "</div>"
      ],
      "text/plain": [
       "  student_name  english  student_age\n",
       "0         renu       91            9\n",
       "1         venu       98           10\n",
       "2         mahi       92           14\n",
       "3         abhi       94           12\n",
       "4         hari       93           15"
      ]
     },
     "execution_count": 3,
     "metadata": {},
     "output_type": "execute_result"
    }
   ],
   "source": [
    "data={'student_name':(['renu','venu','mahi','abhi','hari']),\n",
    "     'english':([91,98,92,94,93]),\n",
    "     'student_age':([9,10,14,12,15])}\n",
    "data1=pd.DataFrame(data)\n",
    "data1"
   ]
  },
  {
   "cell_type": "code",
   "execution_count": 4,
   "id": "e529cb9e",
   "metadata": {},
   "outputs": [
    {
     "data": {
      "text/html": [
       "<div>\n",
       "<style scoped>\n",
       "    .dataframe tbody tr th:only-of-type {\n",
       "        vertical-align: middle;\n",
       "    }\n",
       "\n",
       "    .dataframe tbody tr th {\n",
       "        vertical-align: top;\n",
       "    }\n",
       "\n",
       "    .dataframe thead th {\n",
       "        text-align: right;\n",
       "    }\n",
       "</style>\n",
       "<table border=\"1\" class=\"dataframe\">\n",
       "  <thead>\n",
       "    <tr style=\"text-align: right;\">\n",
       "      <th></th>\n",
       "      <th>student_name</th>\n",
       "      <th>english</th>\n",
       "      <th>student_id</th>\n",
       "    </tr>\n",
       "  </thead>\n",
       "  <tbody>\n",
       "    <tr>\n",
       "      <th>0</th>\n",
       "      <td>renu</td>\n",
       "      <td>95</td>\n",
       "      <td>1024</td>\n",
       "    </tr>\n",
       "    <tr>\n",
       "      <th>1</th>\n",
       "      <td>venu</td>\n",
       "      <td>94</td>\n",
       "      <td>1042</td>\n",
       "    </tr>\n",
       "    <tr>\n",
       "      <th>2</th>\n",
       "      <td>teju</td>\n",
       "      <td>92</td>\n",
       "      <td>1062</td>\n",
       "    </tr>\n",
       "  </tbody>\n",
       "</table>\n",
       "</div>"
      ],
      "text/plain": [
       "  student_name  english  student_id\n",
       "0         renu       95        1024\n",
       "1         venu       94        1042\n",
       "2         teju       92        1062"
      ]
     },
     "execution_count": 4,
     "metadata": {},
     "output_type": "execute_result"
    }
   ],
   "source": [
    "data={'student_name':(['renu','venu','teju']),\n",
    "     'english':([95,94,92]),\n",
    "     'student_id':([1024,1042,1062])}\n",
    "data2=pd.DataFrame(data)\n",
    "data2"
   ]
  },
  {
   "cell_type": "markdown",
   "id": "208560bb",
   "metadata": {},
   "source": [
    "## Left join"
   ]
  },
  {
   "cell_type": "markdown",
   "id": "7cebe028",
   "metadata": {},
   "source": [
    "- left data frame will not change.\n",
    "- right data frame will come and stick to respective rows based on \"on\" columun. "
   ]
  },
  {
   "cell_type": "code",
   "execution_count": 4,
   "id": "8fd5218a",
   "metadata": {},
   "outputs": [
    {
     "data": {
      "text/html": [
       "<div>\n",
       "<style scoped>\n",
       "    .dataframe tbody tr th:only-of-type {\n",
       "        vertical-align: middle;\n",
       "    }\n",
       "\n",
       "    .dataframe tbody tr th {\n",
       "        vertical-align: top;\n",
       "    }\n",
       "\n",
       "    .dataframe thead th {\n",
       "        text-align: right;\n",
       "    }\n",
       "</style>\n",
       "<table border=\"1\" class=\"dataframe\">\n",
       "  <thead>\n",
       "    <tr style=\"text-align: right;\">\n",
       "      <th></th>\n",
       "      <th>student_name</th>\n",
       "      <th>maths</th>\n",
       "      <th>student_age</th>\n",
       "      <th>english</th>\n",
       "      <th>student_id</th>\n",
       "    </tr>\n",
       "  </thead>\n",
       "  <tbody>\n",
       "    <tr>\n",
       "      <th>0</th>\n",
       "      <td>renu</td>\n",
       "      <td>91</td>\n",
       "      <td>9</td>\n",
       "      <td>95.0</td>\n",
       "      <td>1024.0</td>\n",
       "    </tr>\n",
       "    <tr>\n",
       "      <th>1</th>\n",
       "      <td>venu</td>\n",
       "      <td>98</td>\n",
       "      <td>10</td>\n",
       "      <td>94.0</td>\n",
       "      <td>1042.0</td>\n",
       "    </tr>\n",
       "    <tr>\n",
       "      <th>2</th>\n",
       "      <td>mahi</td>\n",
       "      <td>92</td>\n",
       "      <td>14</td>\n",
       "      <td>NaN</td>\n",
       "      <td>NaN</td>\n",
       "    </tr>\n",
       "    <tr>\n",
       "      <th>3</th>\n",
       "      <td>abhi</td>\n",
       "      <td>94</td>\n",
       "      <td>12</td>\n",
       "      <td>NaN</td>\n",
       "      <td>NaN</td>\n",
       "    </tr>\n",
       "    <tr>\n",
       "      <th>4</th>\n",
       "      <td>hari</td>\n",
       "      <td>93</td>\n",
       "      <td>15</td>\n",
       "      <td>NaN</td>\n",
       "      <td>NaN</td>\n",
       "    </tr>\n",
       "  </tbody>\n",
       "</table>\n",
       "</div>"
      ],
      "text/plain": [
       "  student_name  maths  student_age  english  student_id\n",
       "0         renu     91            9     95.0      1024.0\n",
       "1         venu     98           10     94.0      1042.0\n",
       "2         mahi     92           14      NaN         NaN\n",
       "3         abhi     94           12      NaN         NaN\n",
       "4         hari     93           15      NaN         NaN"
      ]
     },
     "execution_count": 4,
     "metadata": {},
     "output_type": "execute_result"
    }
   ],
   "source": [
    "left_join=pd.merge(data1,data2,on=\"student_name\",how=\"left\")\n",
    "left_join"
   ]
  },
  {
   "cell_type": "code",
   "execution_count": 5,
   "id": "439a6a33",
   "metadata": {},
   "outputs": [
    {
     "data": {
      "text/html": [
       "<div>\n",
       "<style scoped>\n",
       "    .dataframe tbody tr th:only-of-type {\n",
       "        vertical-align: middle;\n",
       "    }\n",
       "\n",
       "    .dataframe tbody tr th {\n",
       "        vertical-align: top;\n",
       "    }\n",
       "\n",
       "    .dataframe thead th {\n",
       "        text-align: right;\n",
       "    }\n",
       "</style>\n",
       "<table border=\"1\" class=\"dataframe\">\n",
       "  <thead>\n",
       "    <tr style=\"text-align: right;\">\n",
       "      <th></th>\n",
       "      <th>student_name</th>\n",
       "      <th>english</th>\n",
       "      <th>student_id</th>\n",
       "      <th>maths</th>\n",
       "      <th>student_age</th>\n",
       "    </tr>\n",
       "  </thead>\n",
       "  <tbody>\n",
       "    <tr>\n",
       "      <th>0</th>\n",
       "      <td>renu</td>\n",
       "      <td>95</td>\n",
       "      <td>1024</td>\n",
       "      <td>91.0</td>\n",
       "      <td>9.0</td>\n",
       "    </tr>\n",
       "    <tr>\n",
       "      <th>1</th>\n",
       "      <td>venu</td>\n",
       "      <td>94</td>\n",
       "      <td>1042</td>\n",
       "      <td>98.0</td>\n",
       "      <td>10.0</td>\n",
       "    </tr>\n",
       "    <tr>\n",
       "      <th>2</th>\n",
       "      <td>teju</td>\n",
       "      <td>92</td>\n",
       "      <td>1062</td>\n",
       "      <td>NaN</td>\n",
       "      <td>NaN</td>\n",
       "    </tr>\n",
       "  </tbody>\n",
       "</table>\n",
       "</div>"
      ],
      "text/plain": [
       "  student_name  english  student_id  maths  student_age\n",
       "0         renu       95        1024   91.0          9.0\n",
       "1         venu       94        1042   98.0         10.0\n",
       "2         teju       92        1062    NaN          NaN"
      ]
     },
     "execution_count": 5,
     "metadata": {},
     "output_type": "execute_result"
    }
   ],
   "source": [
    "left_join=pd.merge(data2,data1,on=\"student_name\",how=\"left\")\n",
    "left_join"
   ]
  },
  {
   "cell_type": "code",
   "execution_count": 6,
   "id": "0839b18b",
   "metadata": {},
   "outputs": [
    {
     "data": {
      "text/html": [
       "<div>\n",
       "<style scoped>\n",
       "    .dataframe tbody tr th:only-of-type {\n",
       "        vertical-align: middle;\n",
       "    }\n",
       "\n",
       "    .dataframe tbody tr th {\n",
       "        vertical-align: top;\n",
       "    }\n",
       "\n",
       "    .dataframe thead th {\n",
       "        text-align: right;\n",
       "    }\n",
       "</style>\n",
       "<table border=\"1\" class=\"dataframe\">\n",
       "  <thead>\n",
       "    <tr style=\"text-align: right;\">\n",
       "      <th></th>\n",
       "      <th>student_name</th>\n",
       "      <th>english</th>\n",
       "      <th>student_id</th>\n",
       "    </tr>\n",
       "  </thead>\n",
       "  <tbody>\n",
       "    <tr>\n",
       "      <th>0</th>\n",
       "      <td>renu</td>\n",
       "      <td>95</td>\n",
       "      <td>1024</td>\n",
       "    </tr>\n",
       "    <tr>\n",
       "      <th>1</th>\n",
       "      <td>venu</td>\n",
       "      <td>94</td>\n",
       "      <td>1042</td>\n",
       "    </tr>\n",
       "    <tr>\n",
       "      <th>2</th>\n",
       "      <td>venu</td>\n",
       "      <td>92</td>\n",
       "      <td>1062</td>\n",
       "    </tr>\n",
       "  </tbody>\n",
       "</table>\n",
       "</div>"
      ],
      "text/plain": [
       "  student_name  english  student_id\n",
       "0         renu       95        1024\n",
       "1         venu       94        1042\n",
       "2         venu       92        1062"
      ]
     },
     "execution_count": 6,
     "metadata": {},
     "output_type": "execute_result"
    }
   ],
   "source": [
    "data={'student_name':(['renu','venu','venu']),\n",
    "     'english':([95,94,92]),\n",
    "     'student_id':([1024,1042,1062])}\n",
    "data2=pd.DataFrame(data)\n",
    "data2"
   ]
  },
  {
   "cell_type": "code",
   "execution_count": 7,
   "id": "5555fe2a",
   "metadata": {},
   "outputs": [
    {
     "data": {
      "text/html": [
       "<div>\n",
       "<style scoped>\n",
       "    .dataframe tbody tr th:only-of-type {\n",
       "        vertical-align: middle;\n",
       "    }\n",
       "\n",
       "    .dataframe tbody tr th {\n",
       "        vertical-align: top;\n",
       "    }\n",
       "\n",
       "    .dataframe thead th {\n",
       "        text-align: right;\n",
       "    }\n",
       "</style>\n",
       "<table border=\"1\" class=\"dataframe\">\n",
       "  <thead>\n",
       "    <tr style=\"text-align: right;\">\n",
       "      <th></th>\n",
       "      <th>student_name</th>\n",
       "      <th>maths</th>\n",
       "      <th>student_age</th>\n",
       "      <th>english</th>\n",
       "      <th>student_id</th>\n",
       "    </tr>\n",
       "  </thead>\n",
       "  <tbody>\n",
       "    <tr>\n",
       "      <th>0</th>\n",
       "      <td>renu</td>\n",
       "      <td>91</td>\n",
       "      <td>9</td>\n",
       "      <td>95.0</td>\n",
       "      <td>1024.0</td>\n",
       "    </tr>\n",
       "    <tr>\n",
       "      <th>1</th>\n",
       "      <td>venu</td>\n",
       "      <td>98</td>\n",
       "      <td>10</td>\n",
       "      <td>94.0</td>\n",
       "      <td>1042.0</td>\n",
       "    </tr>\n",
       "    <tr>\n",
       "      <th>2</th>\n",
       "      <td>venu</td>\n",
       "      <td>98</td>\n",
       "      <td>10</td>\n",
       "      <td>92.0</td>\n",
       "      <td>1062.0</td>\n",
       "    </tr>\n",
       "    <tr>\n",
       "      <th>3</th>\n",
       "      <td>mahi</td>\n",
       "      <td>92</td>\n",
       "      <td>14</td>\n",
       "      <td>NaN</td>\n",
       "      <td>NaN</td>\n",
       "    </tr>\n",
       "    <tr>\n",
       "      <th>4</th>\n",
       "      <td>abhi</td>\n",
       "      <td>94</td>\n",
       "      <td>12</td>\n",
       "      <td>NaN</td>\n",
       "      <td>NaN</td>\n",
       "    </tr>\n",
       "    <tr>\n",
       "      <th>5</th>\n",
       "      <td>hari</td>\n",
       "      <td>93</td>\n",
       "      <td>15</td>\n",
       "      <td>NaN</td>\n",
       "      <td>NaN</td>\n",
       "    </tr>\n",
       "  </tbody>\n",
       "</table>\n",
       "</div>"
      ],
      "text/plain": [
       "  student_name  maths  student_age  english  student_id\n",
       "0         renu     91            9     95.0      1024.0\n",
       "1         venu     98           10     94.0      1042.0\n",
       "2         venu     98           10     92.0      1062.0\n",
       "3         mahi     92           14      NaN         NaN\n",
       "4         abhi     94           12      NaN         NaN\n",
       "5         hari     93           15      NaN         NaN"
      ]
     },
     "execution_count": 7,
     "metadata": {},
     "output_type": "execute_result"
    }
   ],
   "source": [
    "left_join=pd.merge(data1,data2,on=\"student_name\",how=\"left\")\n",
    "left_join"
   ]
  },
  {
   "cell_type": "markdown",
   "id": "eb3ea415",
   "metadata": {},
   "source": [
    "## inner join"
   ]
  },
  {
   "cell_type": "markdown",
   "id": "eada99da",
   "metadata": {},
   "source": [
    "- Inner join gives that both dataframes which have same on given column."
   ]
  },
  {
   "cell_type": "code",
   "execution_count": 8,
   "id": "e8de7401",
   "metadata": {},
   "outputs": [
    {
     "data": {
      "text/html": [
       "<div>\n",
       "<style scoped>\n",
       "    .dataframe tbody tr th:only-of-type {\n",
       "        vertical-align: middle;\n",
       "    }\n",
       "\n",
       "    .dataframe tbody tr th {\n",
       "        vertical-align: top;\n",
       "    }\n",
       "\n",
       "    .dataframe thead th {\n",
       "        text-align: right;\n",
       "    }\n",
       "</style>\n",
       "<table border=\"1\" class=\"dataframe\">\n",
       "  <thead>\n",
       "    <tr style=\"text-align: right;\">\n",
       "      <th></th>\n",
       "      <th>student_name</th>\n",
       "      <th>maths</th>\n",
       "      <th>student_age</th>\n",
       "      <th>english</th>\n",
       "      <th>student_id</th>\n",
       "    </tr>\n",
       "  </thead>\n",
       "  <tbody>\n",
       "    <tr>\n",
       "      <th>0</th>\n",
       "      <td>renu</td>\n",
       "      <td>91</td>\n",
       "      <td>9</td>\n",
       "      <td>95</td>\n",
       "      <td>1024</td>\n",
       "    </tr>\n",
       "    <tr>\n",
       "      <th>1</th>\n",
       "      <td>venu</td>\n",
       "      <td>98</td>\n",
       "      <td>10</td>\n",
       "      <td>94</td>\n",
       "      <td>1042</td>\n",
       "    </tr>\n",
       "    <tr>\n",
       "      <th>2</th>\n",
       "      <td>venu</td>\n",
       "      <td>98</td>\n",
       "      <td>10</td>\n",
       "      <td>92</td>\n",
       "      <td>1062</td>\n",
       "    </tr>\n",
       "  </tbody>\n",
       "</table>\n",
       "</div>"
      ],
      "text/plain": [
       "  student_name  maths  student_age  english  student_id\n",
       "0         renu     91            9       95        1024\n",
       "1         venu     98           10       94        1042\n",
       "2         venu     98           10       92        1062"
      ]
     },
     "execution_count": 8,
     "metadata": {},
     "output_type": "execute_result"
    }
   ],
   "source": [
    "inner_join=pd.merge(data1,data2,on=\"student_name\",how=\"inner\")\n",
    "inner_join"
   ]
  },
  {
   "cell_type": "markdown",
   "id": "9905fefb",
   "metadata": {},
   "source": [
    "## Outer join"
   ]
  },
  {
   "cell_type": "markdown",
   "id": "9f516f98",
   "metadata": {},
   "source": [
    "- Outer join gives total dataframe of data1 and data2,according to given column"
   ]
  },
  {
   "cell_type": "code",
   "execution_count": 9,
   "id": "08a63899",
   "metadata": {},
   "outputs": [
    {
     "data": {
      "text/html": [
       "<div>\n",
       "<style scoped>\n",
       "    .dataframe tbody tr th:only-of-type {\n",
       "        vertical-align: middle;\n",
       "    }\n",
       "\n",
       "    .dataframe tbody tr th {\n",
       "        vertical-align: top;\n",
       "    }\n",
       "\n",
       "    .dataframe thead th {\n",
       "        text-align: right;\n",
       "    }\n",
       "</style>\n",
       "<table border=\"1\" class=\"dataframe\">\n",
       "  <thead>\n",
       "    <tr style=\"text-align: right;\">\n",
       "      <th></th>\n",
       "      <th>student_name</th>\n",
       "      <th>maths</th>\n",
       "      <th>student_age</th>\n",
       "      <th>english</th>\n",
       "      <th>student_id</th>\n",
       "    </tr>\n",
       "  </thead>\n",
       "  <tbody>\n",
       "    <tr>\n",
       "      <th>0</th>\n",
       "      <td>renu</td>\n",
       "      <td>91</td>\n",
       "      <td>9</td>\n",
       "      <td>95.0</td>\n",
       "      <td>1024.0</td>\n",
       "    </tr>\n",
       "    <tr>\n",
       "      <th>1</th>\n",
       "      <td>venu</td>\n",
       "      <td>98</td>\n",
       "      <td>10</td>\n",
       "      <td>94.0</td>\n",
       "      <td>1042.0</td>\n",
       "    </tr>\n",
       "    <tr>\n",
       "      <th>2</th>\n",
       "      <td>venu</td>\n",
       "      <td>98</td>\n",
       "      <td>10</td>\n",
       "      <td>92.0</td>\n",
       "      <td>1062.0</td>\n",
       "    </tr>\n",
       "    <tr>\n",
       "      <th>3</th>\n",
       "      <td>mahi</td>\n",
       "      <td>92</td>\n",
       "      <td>14</td>\n",
       "      <td>NaN</td>\n",
       "      <td>NaN</td>\n",
       "    </tr>\n",
       "    <tr>\n",
       "      <th>4</th>\n",
       "      <td>abhi</td>\n",
       "      <td>94</td>\n",
       "      <td>12</td>\n",
       "      <td>NaN</td>\n",
       "      <td>NaN</td>\n",
       "    </tr>\n",
       "    <tr>\n",
       "      <th>5</th>\n",
       "      <td>hari</td>\n",
       "      <td>93</td>\n",
       "      <td>15</td>\n",
       "      <td>NaN</td>\n",
       "      <td>NaN</td>\n",
       "    </tr>\n",
       "  </tbody>\n",
       "</table>\n",
       "</div>"
      ],
      "text/plain": [
       "  student_name  maths  student_age  english  student_id\n",
       "0         renu     91            9     95.0      1024.0\n",
       "1         venu     98           10     94.0      1042.0\n",
       "2         venu     98           10     92.0      1062.0\n",
       "3         mahi     92           14      NaN         NaN\n",
       "4         abhi     94           12      NaN         NaN\n",
       "5         hari     93           15      NaN         NaN"
      ]
     },
     "execution_count": 9,
     "metadata": {},
     "output_type": "execute_result"
    }
   ],
   "source": [
    "outer_join=pd.merge(data1,data2,on=\"student_name\",how=\"outer\")\n",
    "outer_join"
   ]
  },
  {
   "cell_type": "markdown",
   "id": "f877333c",
   "metadata": {},
   "source": [
    "rest_type | rest_location | percentage  - df1\n",
    "rest_type | rest_location | count  - df2 \n",
    "\n",
    "df1 < df2 = s"
   ]
  },
  {
   "cell_type": "code",
   "execution_count": null,
   "id": "2b72922e",
   "metadata": {},
   "outputs": [],
   "source": []
  }
 ],
 "metadata": {
  "kernelspec": {
   "display_name": "Python 3 (ipykernel)",
   "language": "python",
   "name": "python3"
  },
  "language_info": {
   "codemirror_mode": {
    "name": "ipython",
    "version": 3
   },
   "file_extension": ".py",
   "mimetype": "text/x-python",
   "name": "python",
   "nbconvert_exporter": "python",
   "pygments_lexer": "ipython3",
   "version": "3.8.11"
  }
 },
 "nbformat": 4,
 "nbformat_minor": 5
}
