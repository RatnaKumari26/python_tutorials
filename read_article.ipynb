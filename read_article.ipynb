{
 "cells": [
  {
   "cell_type": "code",
   "execution_count": 1,
   "id": "07e78e41",
   "metadata": {},
   "outputs": [],
   "source": [
    "import requests\n",
    "import pandas as pd\n",
    "from bs4 import BeautifulSoup"
   ]
  },
  {
   "cell_type": "code",
   "execution_count": 2,
   "id": "ba9bd34b",
   "metadata": {},
   "outputs": [
    {
     "name": "stdout",
     "output_type": "stream",
     "text": [
      "The All India Majlis-e-Ittehadul Muslimeen threw itself into the fray in the election-bound State of Uttar Pradesh and has organised dozens of rallies and public meetings. The party has emphasised the importance of Muslim leadership in that State and underscored the socio-economic and political conditions of the minorities. \n",
      "Muslims in Uttar Pradesh constitute approximately 20% of the total population.\n",
      "At a recent public meeting in U.P., AIMIM party president Asaduddin Owaisi said, \"It is our objective to create a Muslim leadership and at the same time see to it that the BJP does not come to power and that Yogi Adityanath does not become the Chief Minister again.\" \n",
      "While urging people to vote for his party's candidates, he said that the AIMIM would work with the people of U.P. He also stated that it is time for people of that State to come forward and become leaders and that he would stand behind them. He said that if the minorities want to remain politically relevant, they will have to discard political secularism, and at the same time pointed out that secularism as promised by the Constitution is needed. He criticised the Congress, BJP, and the Samajwadi Party for their approach towards Muslims and handling their issues. \n",
      " Speaking to\n",
      "The Hindu , a party functionary said that the AIMIM is working in areas with a substantial population of Muslims. Additionally, a strong booth-level presence in Uttar Pradesh is also a contributing factor. Rampur, Balrampur, Asmoli, and Moradabad are constituencies where the party is likely to field candidates.\n",
      "\n",
      "\"In the last three or four months, there have been over 50 rallies, public meetings and interactions with people. In the previous UP elections in 2017, the party contested over 35 seats,\" said a party functionary. While it was reported that the party is likely to contest 100 seats, a clearer picture would emerge when the first list of candidates is released. According to those familiar with the unfolding situation, this is likely to happen in about a fortnight.\n",
      "Mr Owaisi has also sought to rely on data and its interpretation as done by the Centre for Development Policy and Practice (CDPP) to state that Muslims in Uttar Pradesh have not been appeased. \n",
      "With the Election Commission of India planning to review he COVID - 19 situation and halting rallies and public meetings, the party is waiting for a further announcement. Taking to Twitter, Mr Owaisi had said, “ We have taken up the challenge for #Elections2022 in Uttar Pradesh & inshallah we will fight with all of our strength. Hope that @ECISVEEP will review its guidelines post-15th. ECI must be mindful of the digital divide in India, especially in Uttar Pradesh.” He also pointed out that Uttar Pradesh has one of the lowest internet subscribers per 100 people.\n",
      "\n",
      "Our code of editorial values \n",
      "\n",
      "Printable version | Mar 3, 2022 4:48:52 am |\n",
      "https://www.thehindu.com/news/national/telangana/aimim-hopes-to-create-muslim-leadership-in-up/article38260971.ece\n",
      "\n",
      "\n",
      "© THG PUBLISHING PVT LTD.\n",
      "\n"
     ]
    }
   ],
   "source": [
    "def get_data(url):\n",
    "    r = requests.get(url)\n",
    "    return r.text\n",
    "htmldata = get_data(\"https://www.thehindu.com/news/national/telangana/aimim-hopes-to-create-muslim-leadership-in-up/article38260971.ece\")\n",
    "soup = BeautifulSoup(htmldata, 'html.parser')\n",
    "soup.prettify()\n",
    "data = ''\n",
    "for data in soup.find_all(\"p\"):\n",
    "    print(data.text)"
   ]
  },
  {
   "cell_type": "code",
   "execution_count": null,
   "id": "4a45216c",
   "metadata": {},
   "outputs": [],
   "source": []
  }
 ],
 "metadata": {
  "kernelspec": {
   "display_name": "Python 3 (ipykernel)",
   "language": "python",
   "name": "python3"
  },
  "language_info": {
   "codemirror_mode": {
    "name": "ipython",
    "version": 3
   },
   "file_extension": ".py",
   "mimetype": "text/x-python",
   "name": "python",
   "nbconvert_exporter": "python",
   "pygments_lexer": "ipython3",
   "version": "3.8.11"
  }
 },
 "nbformat": 4,
 "nbformat_minor": 5
}
