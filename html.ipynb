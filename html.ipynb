{
 "cells": [
  {
   "cell_type": "markdown",
   "id": "bcc14351",
   "metadata": {},
   "source": [
    "## HTML tags"
   ]
  },
  {
   "cell_type": "markdown",
   "id": "7ac3d797",
   "metadata": {},
   "source": [
    "<html lang=\"en\">\n",
    "<head>\n",
    "  <title>Title of the document</title>\n",
    "</head>\n",
    "<body>\n",
    "\n",
    "<h1>This is a heading</h1>\n",
    "<p>This is a paragraph.</p>\n",
    "\n",
    "</body>\n",
    "</html> "
   ]
  },
  {
   "cell_type": "markdown",
   "id": "9671a2b7",
   "metadata": {},
   "source": [
    "<html> = element is the root element of an HTML page\n",
    "<head> = element contains data and information about the HTML page\n",
    "<title> = element specifies a title for the HTML page (which is shown in the browser's title bar or in the page's tab)\n",
    "<body> = element defines the document's body, and is a container for all the visible contents, such as headings, paragraphs, images, hyperlinks, tables, lists, etc.\n",
    "<h1> = element defines a large heading\n",
    "<p> = element defines a paragraph"
   ]
  },
  {
   "cell_type": "markdown",
   "id": "ca46c051",
   "metadata": {},
   "source": [
    "### how to download web page using python?"
   ]
  },
  {
   "cell_type": "code",
   "execution_count": 1,
   "id": "0e2ea081",
   "metadata": {},
   "outputs": [],
   "source": [
    "import requests\n",
    "downloadsurl='https://www.thehindu.com/opinion/editorial//article59785186.ece'\n",
    "web=requests.get(downloadsurl)"
   ]
  },
  {
   "cell_type": "code",
   "execution_count": 2,
   "id": "5822ef34",
   "metadata": {},
   "outputs": [
    {
     "data": {
      "text/plain": [
       "{'Date': 'Wed, 23 Feb 2022 14:02:44 GMT', 'Content-Type': 'text/html; charset=UTF-8', 'Transfer-Encoding': 'chunked', 'Connection': 'keep-alive', 'X-Request-Id': 'adff28c9-5686-4e7c-a77a-aca96bf5b236', 'Last-Modified': 'Tue, 16 Nov 2021 23:05:00 GMT', 'Cache-Control': 'public, s-maxage=180, must-revalidate', 'X-Cache': 'MISS', 'X-Cache-Hits': '0', 'X-Served-by': 'Cache-1', 'Strict-Transport-Security': 'max-age=31536000; includeSubdomains; preload', 'X-Content-Type-Options': 'nosniff', 'X-XSS-Protection': '1; mode=block', 'Content-Security-Policy': \"block-all-mixed-content; style-src https: 'unsafe-inline'; script-src https: blob: 'unsafe-inline' 'unsafe-eval'; img-src https: data:; frame-src https:;\", 'CF-Cache-Status': 'REVALIDATED', 'Expect-CT': 'max-age=604800, report-uri=\"https://report-uri.cloudflare.com/cdn-cgi/beacon/expect-ct\"', 'Vary': 'Accept-Encoding', 'Server': 'cloudflare', 'CF-RAY': '6e20fe59c8926ed1-BOM', 'Content-Encoding': 'gzip', 'alt-svc': 'h3=\":443\"; ma=86400, h3-29=\":443\"; ma=86400'}"
      ]
     },
     "execution_count": 2,
     "metadata": {},
     "output_type": "execute_result"
    }
   ],
   "source": [
    "web.headers"
   ]
  },
  {
   "cell_type": "code",
   "execution_count": 3,
   "id": "e40ce98f",
   "metadata": {},
   "outputs": [
    {
     "name": "stdout",
     "output_type": "stream",
     "text": [
      "article59785186.ece\n"
     ]
    }
   ],
   "source": [
    "filename=web.url[downloadsurl.rfind('/')+1:]\n",
    "print(filename)"
   ]
  },
  {
   "cell_type": "code",
   "execution_count": 4,
   "id": "b3a83e00",
   "metadata": {},
   "outputs": [
    {
     "name": "stdout",
     "output_type": "stream",
     "text": [
      "<!doctype html>\n",
      "<html>\n",
      "<head>\n",
      "    <title>Example Domain</title>\n",
      "\n",
      "    <meta charset=\"utf-8\" />\n",
      "    <meta http-equiv=\"Content-type\" content=\"text/html; charset=utf-8\" />\n",
      "    <meta name=\"viewport\" content=\"width=device-width, initial-scale=1\" />\n",
      "    <style type=\"text/css\">\n",
      "    body {\n",
      "        background-color: #f0f0f2;\n",
      "        margin: 0;\n",
      "        padding: 0;\n",
      "        font-family: -apple-system, system-ui, BlinkMacSystemFont, \"Segoe UI\", \"Open Sans\", \"Helvetica Neue\", Helvetica, Arial, sans-serif;\n",
      "        \n",
      "    }\n",
      "    div {\n",
      "        width: 600px;\n",
      "        margin: 5em auto;\n",
      "        padding: 2em;\n",
      "        background-color: #fdfdff;\n",
      "        border-radius: 0.5em;\n",
      "        box-shadow: 2px 3px 7px 2px rgba(0,0,0,0.02);\n",
      "    }\n",
      "    a:link, a:visited {\n",
      "        color: #38488f;\n",
      "        text-decoration: none;\n",
      "    }\n",
      "    @media (max-width: 700px) {\n",
      "        div {\n",
      "            margin: 0 auto;\n",
      "            width: auto;\n",
      "        }\n",
      "    }\n",
      "    </style>    \n",
      "</head>\n",
      "\n",
      "<body>\n",
      "<div>\n",
      "    <h1>Example Domain</h1>\n",
      "    <p>This domain is for use in illustrative examples in documents. You may use this\n",
      "    domain in literature without prior coordination or asking for permission.</p>\n",
      "    <p><a href=\"https://www.iana.org/domains/example\">More information...</a></p>\n",
      "</div>\n",
      "</body>\n",
      "</html>\n",
      "\n"
     ]
    }
   ],
   "source": [
    "import urllib.request\n",
    "\n",
    "fid=urllib.request.urlopen('http://www.example.org/')\n",
    "\n",
    "webpage=fid.read().decode('utf-8')\n",
    "\n",
    "print(webpage)"
   ]
  },
  {
   "cell_type": "code",
   "execution_count": null,
   "id": "b86fd9a4",
   "metadata": {},
   "outputs": [],
   "source": []
  }
 ],
 "metadata": {
  "kernelspec": {
   "display_name": "Python 3 (ipykernel)",
   "language": "python",
   "name": "python3"
  },
  "language_info": {
   "codemirror_mode": {
    "name": "ipython",
    "version": 3
   },
   "file_extension": ".py",
   "mimetype": "text/x-python",
   "name": "python",
   "nbconvert_exporter": "python",
   "pygments_lexer": "ipython3",
   "version": "3.8.11"
  }
 },
 "nbformat": 4,
 "nbformat_minor": 5
}
